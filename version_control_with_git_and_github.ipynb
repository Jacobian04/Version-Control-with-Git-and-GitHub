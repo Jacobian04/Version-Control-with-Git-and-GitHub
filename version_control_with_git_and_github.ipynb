{
 "cells": [
  {
   "cell_type": "markdown",
   "metadata": {},
   "source": [
    "# Version Control with Git and GitHub\n",
    "Git is the most popular version control system in the world. Git tracks changes to files and allows you to work together on a project.\n",
    "\n",
    "Install Git on window by following the instructions on [Git website](https://git-scm.com/book/en/v2/Getting-Started-Installing-Git#:~:text=Installing%20on%20Windows)\n",
    "\n",
    "## First time Git setup\n",
    "After you install Git on your computer, you will need to initialize it only once.\n",
    "\n",
    "Git come with a tool called `git config` that allows you to set up your Git configuration.\n",
    "\n",
    "    git config --global user.name \"Your Name\"\n",
    "    git config --global user.email \"Your Email\""
   ]
  },
  {
   "cell_type": "markdown",
   "metadata": {},
   "source": [
    "## Intializing a Git Repository\n",
    "The images in this section are taken from \n",
    "\n",
    "To intialize a Git repository, you need to create a folder and initialize it with Git.\n",
    "\n",
    "    git init\n",
    "    git branch -M main\n",
    "\n",
    "The first command, git init, initializes a Git repository in the current folder. The second command, git branch -M main, creates a branch called main and makes it the current branch.\n",
    "\n",
    "Git works with a concept of branches to enable collaboration, and the default branch that gets craeted is called master by default.\n",
    "\n",
    "![Image](https://i.imgur.com/g1UhXhQ.png)\n",
    "\n",
    "## Saving Versions of your Project\n",
    "Once a git repository is initialized, you can save your project by commiting your changes anytime. In the project root folder, run the following command on the terminal:\n",
    "    \n",
    "        git add .\n",
    "        git commit -m \"Commit Message\"\n",
    "\n",
    "The first command, git add, adds all the files in the current folder to the staging area. The second command, git commit, commits the changes to the repository.\n",
    "\n",
    "The action of saving a version in Git is know as \"committing\" , and saved versions are called \"commits\".\n",
    "Each commit has a unique hash (a random string of characters) that is used to identify the commit.\n",
    "\n",
    "![Image](https://i.imgur.com/BnPJyEi.png)"
   ]
  },
  {
   "cell_type": "markdown",
   "metadata": {},
   "source": [
    "## Viewing Previous Commits\n",
    "You can view the previous commits by running the following command:\n",
    "    \n",
    "        git log\n",
    "\n",
    "To see the differences between two commits, use `git diff` and provide the unique hash of the commit you want to compare against.\n",
    "    \n",
    "        git diff <commit> <commit>\n",
    "        git diff hash1 hash2\n",
    "        \n",
    "![Image](https://i.imgur.com/2vjyiIK.png)\n",
    "\n",
    "To view the state of the project in a previous commit, run the following command:\n",
    "    \n",
    "        git checkout <commit>\n",
    "\n",
    "You can then return to the latest commit by running the following command:\n",
    "    \n",
    "        git checkout main\n",
    "\n",
    "If you'd like to permanently reset the project to a previous commit, run the following command:\n",
    "    \n",
    "        git reset --hard <commit>\n",
    "\n",
    "Use `git reset` with *caution!*. Once you reset the project, all the newer versions are lost forever.\n",
    "        \n",
    "        git checkout commit_hash\n",
    "        git reset --hard HEAD\n"
   ]
  },
  {
   "cell_type": "markdown",
   "metadata": {},
   "source": [
    "## Managing Projects with GitHub\n",
    "While it's useful to track versions of your project locally on your computer, the real power of Git lies in being able to upload your project to a cloud platform like GitHub, GitLab, or Bitbucket. \n",
    "\n",
    "First, we need to create new repository on GitHub. Next we need to configure our local Git repository to point to the remote repository (replace `your-username/your-project-name` with the proper values).\n",
    "\n",
    "    git remote add origin https://github.com/your-username/your-project-name.git\n",
    "\n",
    "After createing a Git repository, you can push your project to GitHub by running the following command:\n",
    "    \n",
    "        git push -u origin main"
   ]
  },
  {
   "cell_type": "code",
   "execution_count": null,
   "metadata": {},
   "outputs": [],
   "source": []
  }
 ],
 "metadata": {
  "kernelspec": {
   "display_name": "Python 3.9.2 64-bit",
   "language": "python",
   "name": "python3"
  },
  "language_info": {
   "name": "python",
   "version": "3.9.2"
  },
  "orig_nbformat": 4,
  "vscode": {
   "interpreter": {
    "hash": "8055966ec8f531915d0ecce990df7b6bcfcfd961ec763478e03103bcb1a6eadb"
   }
  }
 },
 "nbformat": 4,
 "nbformat_minor": 2
}
